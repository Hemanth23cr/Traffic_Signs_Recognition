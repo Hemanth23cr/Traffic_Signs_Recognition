{
 "cells": [
  {
   "cell_type": "code",
   "execution_count": 8,
   "metadata": {},
   "outputs": [],
   "source": [
    "import numpy as np \n",
    "import pandas as pd \n",
    "import matplotlib.pyplot as plt\n",
    "import cv2\n",
    "import tensorflow as tf\n",
    "from PIL import Image\n",
    "import os\n",
    "from sklearn.model_selection import train_test_split\n",
    "from keras.utils import to_categorical\n",
    "from keras.models import Sequential, load_model\n",
    "from keras.layers import Conv2D, MaxPool2D, Dense, Flatten, Dropout\n",
    "data = []\n",
    "labels = []\n",
    "classes = 43\n",
    "cur_path = \"C:/Users/heman/Desktop/speech/Traffic sign classification/Traffic_data\"\n",
    "#Retrieving the images and their labels \n",
    "for i in range(classes):\n",
    "    path = os.path.join(cur_path,'Train',str(i))\n",
    "    images = os.listdir(path)\n",
    "    for a in images:\n",
    "        try:\n",
    "            image = Image.open(path + '\\\\'+ a)\n",
    "            image = image.resize((30,30))\n",
    "            image = np.array(image)\n",
    "            #sim = Image.fromarray(image)\n",
    "            data.append(image)\n",
    "            labels.append(i)\n",
    "        except:\n",
    "            print(\"Error loading image\")"
   ]
  },
  {
   "cell_type": "code",
   "execution_count": 9,
   "metadata": {},
   "outputs": [
    {
     "name": "stdout",
     "output_type": "stream",
     "text": [
      "(39209, 30, 30, 3) (39209,)\n",
      "(31367, 30, 30, 3) (7842, 30, 30, 3) (31367,) (7842,)\n"
     ]
    }
   ],
   "source": [
    "#Converting lists into numpy arrays\n",
    "data = np.array(data)\n",
    "labels = np.array(labels)\n",
    "print(data.shape, labels.shape)\n",
    "#Splitting training and testing dataset\n",
    "X_train, X_test, y_train, y_test = train_test_split(data, labels, test_size=0.2, random_state=42)\n",
    "print(X_train.shape, X_test.shape, y_train.shape, y_test.shape)\n"
   ]
  },
  {
   "cell_type": "code",
   "execution_count": 10,
   "metadata": {},
   "outputs": [],
   "source": [
    "#Converting the labels into one hot encoding\n",
    "y_train = to_categorical(y_train, 43)\n",
    "y_test = to_categorical(y_test, 43)"
   ]
  },
  {
   "cell_type": "code",
   "execution_count": 11,
   "metadata": {},
   "outputs": [],
   "source": [
    "#Building the model\n",
    "model = Sequential()\n",
    "model.add(Conv2D(filters=32, kernel_size=(5,5), activation='relu', input_shape=X_train.shape[1:]))\n",
    "model.add(Conv2D(filters=32, kernel_size=(5,5), activation='relu'))\n",
    "model.add(MaxPool2D(pool_size=(2, 2)))\n",
    "model.add(Dropout(rate=0.25))\n",
    "model.add(Conv2D(filters=64, kernel_size=(3, 3), activation='relu'))\n",
    "model.add(Conv2D(filters=64, kernel_size=(3, 3), activation='relu'))\n",
    "model.add(MaxPool2D(pool_size=(2, 2)))\n",
    "model.add(Dropout(rate=0.25))\n",
    "model.add(Flatten())\n",
    "model.add(Dense(256, activation='relu'))\n",
    "model.add(Dropout(rate=0.5))\n",
    "model.add(Dense(43, activation='softmax'))"
   ]
  },
  {
   "cell_type": "code",
   "execution_count": 12,
   "metadata": {},
   "outputs": [
    {
     "name": "stdout",
     "output_type": "stream",
     "text": [
      "Train on 31367 samples, validate on 7842 samples\n",
      "Epoch 1/15\n",
      "31367/31367 [==============================] - 64s 2ms/step - loss: 2.3206 - accuracy: 0.4164 - val_loss: 1.0568 - val_accuracy: 0.7482\n",
      "Epoch 2/15\n",
      "31367/31367 [==============================] - 68s 2ms/step - loss: 0.9083 - accuracy: 0.7274 - val_loss: 0.3403 - val_accuracy: 0.9125\n",
      "Epoch 3/15\n",
      "31367/31367 [==============================] - 69s 2ms/step - loss: 0.5452 - accuracy: 0.8371 - val_loss: 0.2076 - val_accuracy: 0.9424\n",
      "Epoch 4/15\n",
      "31367/31367 [==============================] - 75s 2ms/step - loss: 0.4046 - accuracy: 0.8789 - val_loss: 0.1054 - val_accuracy: 0.9735\n",
      "Epoch 5/15\n",
      "31367/31367 [==============================] - 76s 2ms/step - loss: 0.3242 - accuracy: 0.9055 - val_loss: 0.0916 - val_accuracy: 0.9739\n",
      "Epoch 6/15\n",
      "31367/31367 [==============================] - 129s 4ms/step - loss: 0.2995 - accuracy: 0.9149 - val_loss: 0.0752 - val_accuracy: 0.9809\n",
      "Epoch 7/15\n",
      "31367/31367 [==============================] - 156s 5ms/step - loss: 0.3004 - accuracy: 0.9175 - val_loss: 0.0757 - val_accuracy: 0.9767\n",
      "Epoch 8/15\n",
      "31367/31367 [==============================] - 128s 4ms/step - loss: 0.2504 - accuracy: 0.9300 - val_loss: 0.0592 - val_accuracy: 0.9843\n",
      "Epoch 9/15\n",
      "31367/31367 [==============================] - 99s 3ms/step - loss: 0.2368 - accuracy: 0.9347 - val_loss: 0.0564 - val_accuracy: 0.9844\n",
      "Epoch 10/15\n",
      "31367/31367 [==============================] - 112s 4ms/step - loss: 0.2135 - accuracy: 0.9414 - val_loss: 0.0512 - val_accuracy: 0.9861\n",
      "Epoch 11/15\n",
      "31367/31367 [==============================] - 147s 5ms/step - loss: 0.2122 - accuracy: 0.9427 - val_loss: 0.0647 - val_accuracy: 0.9821\n",
      "Epoch 12/15\n",
      "31367/31367 [==============================] - 151s 5ms/step - loss: 0.2278 - accuracy: 0.9407 - val_loss: 0.0550 - val_accuracy: 0.9858\n",
      "Epoch 13/15\n",
      "31367/31367 [==============================] - 122s 4ms/step - loss: 0.2048 - accuracy: 0.9456 - val_loss: 0.0679 - val_accuracy: 0.9813\n",
      "Epoch 14/15\n",
      "31367/31367 [==============================] - 86s 3ms/step - loss: 0.1933 - accuracy: 0.9501 - val_loss: 0.1016 - val_accuracy: 0.9726\n",
      "Epoch 15/15\n",
      "31367/31367 [==============================] - 91s 3ms/step - loss: 0.2180 - accuracy: 0.9445 - val_loss: 0.0458 - val_accuracy: 0.9881\n"
     ]
    }
   ],
   "source": [
    "#Compilation of the model\n",
    "model.compile(loss='categorical_crossentropy', optimizer='adam', metrics=['accuracy'])\n",
    "epochs = 15\n",
    "history = model.fit(X_train, y_train, batch_size=32, epochs=epochs, validation_data=(X_test, y_test))\n",
    "model.save(\"my_model.h5\")\n"
   ]
  },
  {
   "cell_type": "code",
   "execution_count": 13,
   "metadata": {},
   "outputs": [
    {
     "data": {
      "image/png": "[encoded data removed]",
      "text/plain": [
       "<Figure size 432x288 with 1 Axes>"
      ]
     },
     "metadata": {
      "needs_background": "light"
     },
     "output_type": "display_data"
    },
    {
     "data": {
      "image/png": "[encoded data removed]",
      "text/plain": [
       "<Figure size 432x288 with 1 Axes>"
      ]
     },
     "metadata": {
      "needs_background": "light"
     },
     "output_type": "display_data"
    }
   ],
   "source": [
    "#plotting graphs for accuracy \n",
    "plt.figure(0)\n",
    "plt.plot(history.history['accuracy'], label='training accuracy')\n",
    "plt.plot(history.history['val_accuracy'], label='val accuracy')\n",
    "plt.title('Accuracy')\n",
    "plt.xlabel('epochs')\n",
    "plt.ylabel('accuracy')\n",
    "plt.legend()\n",
    "plt.show()\n",
    "plt.figure(1)\n",
    "plt.plot(history.history['loss'], label='training loss')\n",
    "plt.plot(history.history['val_loss'], label='val loss')\n",
    "plt.title('Loss')\n",
    "plt.xlabel('epochs')\n",
    "plt.ylabel('loss')\n",
    "plt.legend()\n",
    "plt.show()\n"
   ]
  },
  {
   "cell_type": "code",
   "execution_count": 24,
   "metadata": {},
   "outputs": [],
   "source": [
    "#testing accuracy on test dataset\n",
    "from sklearn.metrics import accuracy_score\n",
    "y_test = pd.read_csv('C:/Users/heman/Desktop/speech/Traffic sign classification/Traffic_data/Test.csv')\n",
    "labels = y_test[\"ClassId\"].values\n",
    "imgs = y_test[\"Path\"].values\n",
    "data=[]\n",
    "for img in imgs:\n",
    "    image = Image.open('C:/Users/heman/Desktop/speech/Traffic sign classification/Traffic_data' + '/' + img)\n",
    "    image = image.resize((30,30))\n",
    "    data.append(np.array(image))\n",
    "X_test=np.array(data)\n",
    "pred = model.predict_classes(X_test)"
   ]
  },
  {
   "cell_type": "code",
   "execution_count": 27,
   "metadata": {},
   "outputs": [
    {
     "name": "stdout",
     "output_type": "stream",
     "text": [
      "0.9528899445764054\n"
     ]
    }
   ],
   "source": [
    "#Accuracy with the test data\n",
    "from sklearn.metrics import accuracy_score\n",
    "print(accuracy_score(labels, pred))\n",
    "\n",
    "model.save(\"traffic_classifier.h5\")"
   ]
  },
  {
   "cell_type": "code",
   "execution_count": null,
   "metadata": {},
   "outputs": [],
   "source": []
  }
 ],
 "metadata": {
  "kernelspec": {
   "display_name": "Python 3",
   "language": "python",
   "name": "python3"
  },
  "language_info": {
   "codemirror_mode": {
    "name": "ipython",
    "version": 3
   },
   "file_extension": ".py",
   "mimetype": "text/x-python",
   "name": "python",
   "nbconvert_exporter": "python",
   "pygments_lexer": "ipython3",
   "version": "3.7.5"
  }
 },
 "nbformat": 4,
 "nbformat_minor": 4
}
